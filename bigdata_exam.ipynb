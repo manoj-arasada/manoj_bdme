{
 "cells": [
  {
   "attachments": {},
   "cell_type": "markdown",
   "metadata": {},
   "source": []
  },
  {
   "cell_type": "code",
   "execution_count": 1,
   "metadata": {},
   "outputs": [],
   "source": [
    "import pandas as pd\n",
    "from cassandra.cluster import Cluster"
   ]
  },
  {
   "attachments": {},
   "cell_type": "markdown",
   "metadata": {},
   "source": [
    "# imported required packages"
   ]
  },
  {
   "cell_type": "code",
   "execution_count": 2,
   "metadata": {},
   "outputs": [],
   "source": [
    "clstr = Cluster()\n",
    "session = clstr.connect()"
   ]
  },
  {
   "attachments": {},
   "cell_type": "markdown",
   "metadata": {},
   "source": [
    "## connecting to the cassandra cluster"
   ]
  },
  {
   "cell_type": "code",
   "execution_count": 3,
   "metadata": {},
   "outputs": [
    {
     "data": {
      "text/plain": [
       "<cassandra.cluster.ResultSet at 0x7fa62b937f70>"
      ]
     },
     "execution_count": 3,
     "metadata": {},
     "output_type": "execute_result"
    }
   ],
   "source": [
    "session.execute(\"DROP KEYSPACE IF EXISTS manoj_bdme\")"
   ]
  },
  {
   "attachments": {},
   "cell_type": "markdown",
   "metadata": {},
   "source": [
    "# Dropping the keyspace if it already exists and will create this key space with replication factor 3"
   ]
  },
  {
   "cell_type": "code",
   "execution_count": 4,
   "metadata": {},
   "outputs": [
    {
     "name": "stdout",
     "output_type": "stream",
     "text": [
      "m14\n",
      "system\n",
      "system_auth\n",
      "system_distributed\n",
      "system_schema\n",
      "system_traces\n",
      "system_views\n",
      "system_virtual_schema\n",
      "w04\n",
      "w04python\n"
     ]
    }
   ],
   "source": [
    "rows = session.execute(\"desc keyspaces\")\n",
    "for row in rows:\n",
    "    print(f\"{row[0]}\")"
   ]
  },
  {
   "cell_type": "code",
   "execution_count": 5,
   "metadata": {},
   "outputs": [
    {
     "data": {
      "text/plain": [
       "<cassandra.cluster.ResultSet at 0x7fa5f0604400>"
      ]
     },
     "execution_count": 5,
     "metadata": {},
     "output_type": "execute_result"
    }
   ],
   "source": [
    "session.execute(\"\"\"\n",
    "    CREATE KEYSPACE IF NOT EXISTS manoj_bdme WITH REPLICATION = {\n",
    "        'class':'SimpleStrategy', \n",
    "        'replication_factor':3\n",
    "    }\n",
    "\"\"\")"
   ]
  },
  {
   "attachments": {},
   "cell_type": "markdown",
   "metadata": {},
   "source": [
    "# Creating a table with user_id as primary key \n",
    "the proposed system should have three mandatory columns with used_id, data and file_type,\n",
    "User_id is the primary key here"
   ]
  },
  {
   "cell_type": "code",
   "execution_count": 6,
   "metadata": {},
   "outputs": [
    {
     "data": {
      "text/plain": [
       "<cassandra.cluster.ResultSet at 0x7fa5f0540400>"
      ]
     },
     "execution_count": 6,
     "metadata": {},
     "output_type": "execute_result"
    }
   ],
   "source": [
    "session.execute(\"\"\"\n",
    "CREATE TABLE IF NOT EXISTS manoj_bdme.filedata ( \n",
    "    user_id INT,\n",
    "    name TEXT, \n",
    "    date TEXT, \n",
    "    file_type TEXT,  \n",
    "    PRIMARY KEY(user_id)\n",
    ");\n",
    "\"\"\")"
   ]
  },
  {
   "attachments": {},
   "cell_type": "markdown",
   "metadata": {},
   "source": [
    "# the table we created is empty, lets add some data into the table with respective values"
   ]
  },
  {
   "cell_type": "code",
   "execution_count": 7,
   "metadata": {},
   "outputs": [
    {
     "data": {
      "text/plain": [
       "<cassandra.cluster.ResultSet at 0x7fa5f05cc520>"
      ]
     },
     "execution_count": 7,
     "metadata": {},
     "output_type": "execute_result"
    }
   ],
   "source": [
    "session.execute(\"INSERT INTO manoj_bdme.filedata (user_id, name, date, file_type) VALUES (101, 'nani', '1/1/2021', 'image')\")\n",
    "session.execute(\"INSERT INTO manoj_bdme.filedata (user_id, name, date, file_type) VALUES (102, 'manu', '1/2/2021', 'video')\")\n",
    "session.execute(\"INSERT INTO manoj_bdme.filedata (user_id, name, date, file_type) VALUES (103, 'pali', '1/1/2021', 'image')\")\n",
    "session.execute(\"INSERT INTO manoj_bdme.filedata (user_id, name, date, file_type) VALUES (104, 'hari', '1/3/2021', 'image')\")\n",
    "session.execute(\"INSERT INTO manoj_bdme.filedata (user_id, name, date, file_type) VALUES (105, 'babu', '1/2/2021', 'file')\")\n",
    "session.execute(\"INSERT INTO manoj_bdme.filedata (user_id, name, date, file_type) VALUES (106, 'lava', '1/3/2021', 'video')\")\n",
    "\n",
    "\n"
   ]
  },
  {
   "attachments": {},
   "cell_type": "markdown",
   "metadata": {},
   "source": [
    "# Let us create index for the column file_type as we might do some queries to search with respective values"
   ]
  },
  {
   "cell_type": "code",
   "execution_count": 8,
   "metadata": {},
   "outputs": [
    {
     "data": {
      "text/plain": [
       "<cassandra.cluster.ResultSet at 0x7fa62b935180>"
      ]
     },
     "execution_count": 8,
     "metadata": {},
     "output_type": "execute_result"
    }
   ],
   "source": [
    "session.execute(\"CREATE INDEX IF NOT EXISTS warehouse_index ON manoj_bdme.filedata(file_type)\")"
   ]
  },
  {
   "attachments": {},
   "cell_type": "markdown",
   "metadata": {},
   "source": [
    "# Lets print the data to observe the records"
   ]
  },
  {
   "cell_type": "code",
   "execution_count": 9,
   "metadata": {},
   "outputs": [
    {
     "name": "stdout",
     "output_type": "stream",
     "text": [
      "Row(user_id=105, date='1/2/2021', file_type='file', name='babu')\n",
      "Row(user_id=104, date='1/3/2021', file_type='image', name='hari')\n",
      "Row(user_id=102, date='1/2/2021', file_type='video', name='manu')\n",
      "Row(user_id=106, date='1/3/2021', file_type='video', name='lava')\n",
      "Row(user_id=101, date='1/1/2021', file_type='image', name='nani')\n",
      "Row(user_id=103, date='1/1/2021', file_type='image', name='pali')\n"
     ]
    }
   ],
   "source": [
    "result = session.execute(\"SELECT * FROM manoj_bdme.filedata\")\n",
    "\n",
    "for row in result:\n",
    "    print(row)"
   ]
  },
  {
   "attachments": {},
   "cell_type": "markdown",
   "metadata": {},
   "source": [
    "# Query to search for the records with file type as 'video'"
   ]
  },
  {
   "cell_type": "code",
   "execution_count": 10,
   "metadata": {},
   "outputs": [
    {
     "name": "stdout",
     "output_type": "stream",
     "text": [
      "Row(user_id=102, date='1/2/2021', file_type='video', name='manu')\n",
      "Row(user_id=106, date='1/3/2021', file_type='video', name='lava')\n"
     ]
    }
   ],
   "source": [
    "result = session.execute(\"SELECT * FROM manoj_bdme.filedata Where file_type='video'\")\n",
    "\n",
    "for row in result:\n",
    "    print(row)"
   ]
  },
  {
   "attachments": {},
   "cell_type": "markdown",
   "metadata": {},
   "source": [
    "these are the users uploaded the files with filetype as video"
   ]
  },
  {
   "attachments": {},
   "cell_type": "markdown",
   "metadata": {},
   "source": [
    "# let us delete the records of lava whose user_id is 106"
   ]
  },
  {
   "cell_type": "markdown",
   "metadata": {},
   "source": []
  },
  {
   "cell_type": "code",
   "execution_count": 11,
   "metadata": {},
   "outputs": [],
   "source": [
    "result = session.execute(\"DELETE FROM manoj_bdme.filedata Where user_id=106\")\n",
    "\n",
    "for row in result:\n",
    "    print(row)"
   ]
  },
  {
   "cell_type": "code",
   "execution_count": 12,
   "metadata": {},
   "outputs": [
    {
     "name": "stdout",
     "output_type": "stream",
     "text": [
      "Row(user_id=105, date='1/2/2021', file_type='file', name='babu')\n",
      "Row(user_id=104, date='1/3/2021', file_type='image', name='hari')\n",
      "Row(user_id=102, date='1/2/2021', file_type='video', name='manu')\n",
      "Row(user_id=101, date='1/1/2021', file_type='image', name='nani')\n",
      "Row(user_id=103, date='1/1/2021', file_type='image', name='pali')\n"
     ]
    }
   ],
   "source": [
    "result = session.execute(\"SELECT * FROM manoj_bdme.filedata\")\n",
    "\n",
    "for row in result:\n",
    "    print(row)"
   ]
  },
  {
   "attachments": {},
   "cell_type": "markdown",
   "metadata": {},
   "source": [
    "We have successfully deleted the records of user_id with name 'lava'"
   ]
  },
  {
   "attachments": {},
   "cell_type": "markdown",
   "metadata": {},
   "source": [
    "# Want to update the data with the change ass the user named nani uploaded the file type 'video' but given as 'image'"
   ]
  },
  {
   "cell_type": "markdown",
   "metadata": {},
   "source": []
  },
  {
   "cell_type": "code",
   "execution_count": 13,
   "metadata": {},
   "outputs": [],
   "source": [
    "result = session.execute(\"UPDATE manoj_bdme.filedata SET file_type='video' Where user_id=101\")\n",
    "\n",
    "for row in result:\n",
    "    print(row)"
   ]
  },
  {
   "cell_type": "code",
   "execution_count": 14,
   "metadata": {},
   "outputs": [
    {
     "name": "stdout",
     "output_type": "stream",
     "text": [
      "Row(user_id=105, date='1/2/2021', file_type='file', name='babu')\n",
      "Row(user_id=104, date='1/3/2021', file_type='image', name='hari')\n",
      "Row(user_id=102, date='1/2/2021', file_type='video', name='manu')\n",
      "Row(user_id=101, date='1/1/2021', file_type='video', name='nani')\n",
      "Row(user_id=103, date='1/1/2021', file_type='image', name='pali')\n"
     ]
    }
   ],
   "source": [
    "result = session.execute(\"SELECT * FROM manoj_bdme.filedata\")\n",
    "\n",
    "for row in result:\n",
    "    print(row)"
   ]
  },
  {
   "attachments": {},
   "cell_type": "markdown",
   "metadata": {},
   "source": [
    "# the record is updated as the filetype video from image"
   ]
  },
  {
   "cell_type": "code",
   "execution_count": null,
   "metadata": {},
   "outputs": [],
   "source": []
  }
 ],
 "metadata": {
  "kernelspec": {
   "display_name": "base",
   "language": "python",
   "name": "python3"
  },
  "language_info": {
   "codemirror_mode": {
    "name": "ipython",
    "version": 3
   },
   "file_extension": ".py",
   "mimetype": "text/x-python",
   "name": "python",
   "nbconvert_exporter": "python",
   "pygments_lexer": "ipython3",
   "version": "3.10.12"
  },
  "orig_nbformat": 4
 },
 "nbformat": 4,
 "nbformat_minor": 2
}
